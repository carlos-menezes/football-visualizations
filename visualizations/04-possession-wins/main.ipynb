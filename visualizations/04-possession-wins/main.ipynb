{
 "cells": [
  {
   "cell_type": "code",
   "execution_count": 2,
   "metadata": {},
   "outputs": [],
   "source": [
    "import pandas as pd"
   ]
  },
  {
   "cell_type": "code",
   "execution_count": 3,
   "metadata": {},
   "outputs": [],
   "source": [
    "dfs = {\n",
    "    \"Liverpool\": \"https://fbref.com/en/squads/822bd0ba/2024-2025/matchlogs/c9/schedule/Liverpool-Scores-and-Fixtures-Premier-League\",\n",
    "    \"Arsenal\": \"https://fbref.com/en/squads/18bb7c10/2024-2025/matchlogs/c9/schedule/Arsenal-Scores-and-Fixtures-Premier-League\",\n",
    "    \"Nottingham Forest\": \"https://fbref.com/en/squads/e4a775cb/2024-2025/matchlogs/all_comps/schedule/Nottingham-Forest-Scores-and-Fixtures-Premier-League\",\n",
    "    \"Chelsea\": \"https://fbref.com/en/squads/cff3d9bb/2024-2025/matchlogs/all_comps/schedule/Chelsea-Scores-and-Fixtures-Premier-League\",\n",
    "    \"Manchester City\": \"https://fbref.com/en/squads/b8fd03ef/2024-2025/matchlogs/all_comps/schedule/Manchester-City-Scores-and-Fixtures-Premier-League\",\n",
    "    \"Newcastle United\": \"https://fbref.com/en/squads/b2b47a98/2024-2025/matchlogs/c9/schedule/Newcastle-United-Scores-and-Fixtures-Premier-League\",\n",
    "    \"Bournemouth\": \"https://fbref.com/en/squads/4ba7cbea/2024-2025/matchlogs/c9/schedule/Bournemouth-Scores-and-Fixtures-Premier-League\",\n",
    "    \"Aston Villa\": \"https://fbref.com/en/squads/8602292d/2024-2025/matchlogs/c9/schedule/Aston-Villa-Scores-and-Fixtures-Premier-League\",\n",
    "    \"Fulham\": \"https://fbref.com/en/squads/fd962109/2024-2025/matchlogs/c9/schedule/Fulham-Scores-and-Fixtures-Premier-League\",\n",
    "    \"Brighton\": \"https://fbref.com/en/squads/d07537b9/2024-2025/matchlogs/c9/schedule/Brighton-and-Hove-Albion-Scores-and-Fixtures-Premier-League\",\n",
    "    \"Brentford\": \"https://fbref.com/en/squads/cd051869/2024-2025/matchlogs/c9/schedule/Brentford-Scores-and-Fixtures-Premier-League\",\n",
    "    \"Crystal Palace\": \"https://fbref.com/en/squads/47c64c55/2024-2025/matchlogs/c9/schedule/Crystal-Palace-Scores-and-Fixtures-Premier-League\",\n",
    "    \"Manchester United\": \"https://fbref.com/en/squads/19538871/2024-2025/matchlogs/c9/schedule/Manchester-United-Scores-and-Fixtures-Premier-League\",\n",
    "    \"Spurs\": \"https://fbref.com/en/squads/361ca564/2024-2025/matchlogs/c9/schedule/Tottenham-Hotspur-Scores-and-Fixtures-Premier-League\",\n",
    "    \"West Ham\": \"https://fbref.com/en/squads/7c21e445/2024-2025/matchlogs/c9/schedule/West-Ham-United-Scores-and-Fixtures-Premier-League\",\n",
    "    \"Everton\": \"https://fbref.com/en/squads/d3fd31cc/2024-2025/matchlogs/c9/schedule/Everton-Scores-and-Fixtures-Premier-League\",\n",
    "    \"Wolves\": \"https://fbref.com/en/squads/8cec06e1/2024-2025/matchlogs/c9/schedule/Wolverhampton-Wanderers-Scores-and-Fixtures-Premier-League\",\n",
    "    \"Leicester\": \"https://fbref.com/en/squads/a2d435b3/2024-2025/matchlogs/c9/schedule/Leicester-City-Scores-and-Fixtures-Premier-League\",\n",
    "    \"Ipswich\": \"https://fbref.com/en/squads/b74092de/2024-2025/matchlogs/c9/schedule/Ipswich-Town-Scores-and-Fixtures-Premier-League\",\n",
    "    \"Southampton\": \"https://fbref.com/en/squads/33c895d4/2024-2025/matchlogs/c9/schedule/Southampton-Scores-and-Fixtures-Premier-League\"\n",
    "}"
   ]
  },
  {
   "cell_type": "code",
   "execution_count": 31,
   "metadata": {},
   "outputs": [],
   "source": [
    "# Transform each URL into a dataframe\n",
    "dfs = {team: pd.read_html(url, attrs={\"id\":\"matchlogs_for\"})[0] for team, url in dfs.items()}"
   ]
  },
  {
   "cell_type": "code",
   "execution_count": 32,
   "metadata": {},
   "outputs": [],
   "source": [
    "# Remove the rows where result is NaN\n",
    "dfs = {team: df[df['Result'].notna()] for team, df in dfs.items()}"
   ]
  },
  {
   "cell_type": "code",
   "execution_count": null,
   "metadata": {},
   "outputs": [],
   "source": [
    "dfs['Liverpool']"
   ]
  },
  {
   "cell_type": "code",
   "execution_count": 58,
   "metadata": {},
   "outputs": [
    {
     "name": "stderr",
     "output_type": "stream",
     "text": [
      "/var/folders/pw/3lgbkgk149n6t5s78s_4n0rc0000gn/T/ipykernel_33942/886213565.py:26: SettingWithCopyWarning: \n",
      "A value is trying to be set on a copy of a slice from a DataFrame.\n",
      "Try using .loc[row_indexer,col_indexer] = value instead\n",
      "\n",
      "See the caveats in the documentation: https://pandas.pydata.org/pandas-docs/stable/user_guide/indexing.html#returning-a-view-versus-a-copy\n",
      "  valid_matches['possession_result'] = valid_matches.apply(analyze_possession_result, axis=1)\n"
     ]
    }
   ],
   "source": [
    "# First, let's create a function to determine if the team with more possession won\n",
    "def analyze_possession_result(row):\n",
    "    # If possession is greater than 50%, team had more possession\n",
    "    had_more_possession = row['Poss'] > 50\n",
    "    \n",
    "    # Determine if team won\n",
    "    won_game = row['Result'] == 'W'\n",
    "    drew_game = row['Result'] == 'D'\n",
    "    \n",
    "    # Return result\n",
    "    if drew_game:\n",
    "        return 'Draw'\n",
    "    return 'Won' if had_more_possession == won_game else 'Lost'\n",
    "\n",
    "# Create a list to store all possession-result pairs\n",
    "possession_results = []\n",
    "total_matches = 0\n",
    "matches_with_possession = 0\n",
    "\n",
    "# Analyze each team's matches\n",
    "for team, df in dfs.items():\n",
    "    total_matches += len(df)\n",
    "    if 'Poss' in df.columns:  # Make sure possession data exists\n",
    "        valid_matches = df[df['Poss'].notna()]  # Only include matches with possession data\n",
    "        matches_with_possession += len(valid_matches)\n",
    "        valid_matches['possession_result'] = valid_matches.apply(analyze_possession_result, axis=1)\n",
    "        possession_results.extend(valid_matches['possession_result'].tolist())"
   ]
  },
  {
   "cell_type": "code",
   "execution_count": null,
   "metadata": {},
   "outputs": [
    {
     "ename": "NameError",
     "evalue": "name 'pd' is not defined",
     "output_type": "error",
     "traceback": [
      "\u001b[0;31m---------------------------------------------------------------------------\u001b[0m",
      "\u001b[0;31mNameError\u001b[0m                                 Traceback (most recent call last)",
      "Cell \u001b[0;32mIn[1], line 5\u001b[0m\n\u001b[1;32m      2\u001b[0m \u001b[38;5;28;01mimport\u001b[39;00m \u001b[38;5;21;01mmatplotlib\u001b[39;00m\u001b[38;5;21;01m.\u001b[39;00m\u001b[38;5;21;01mpyplot\u001b[39;00m \u001b[38;5;28;01mas\u001b[39;00m \u001b[38;5;21;01mplt\u001b[39;00m\n\u001b[1;32m      4\u001b[0m \u001b[38;5;66;03m# Create a DataFrame with the results and calculate percentages\u001b[39;00m\n\u001b[0;32m----> 5\u001b[0m results_df \u001b[38;5;241m=\u001b[39m \u001b[43mpd\u001b[49m\u001b[38;5;241m.\u001b[39mDataFrame(possession_results, columns\u001b[38;5;241m=\u001b[39m[\u001b[38;5;124m'\u001b[39m\u001b[38;5;124mOutcome\u001b[39m\u001b[38;5;124m'\u001b[39m])\n\u001b[1;32m      6\u001b[0m results_summary \u001b[38;5;241m=\u001b[39m results_df[\u001b[38;5;124m'\u001b[39m\u001b[38;5;124mOutcome\u001b[39m\u001b[38;5;124m'\u001b[39m]\u001b[38;5;241m.\u001b[39mvalue_counts()\n\u001b[1;32m      7\u001b[0m results_percentages \u001b[38;5;241m=\u001b[39m results_df[\u001b[38;5;124m'\u001b[39m\u001b[38;5;124mOutcome\u001b[39m\u001b[38;5;124m'\u001b[39m]\u001b[38;5;241m.\u001b[39mvalue_counts(normalize\u001b[38;5;241m=\u001b[39m\u001b[38;5;28;01mTrue\u001b[39;00m) \u001b[38;5;241m*\u001b[39m \u001b[38;5;241m100\u001b[39m\n",
      "\u001b[0;31mNameError\u001b[0m: name 'pd' is not defined"
     ]
    }
   ],
   "source": [
    "# Plot the dataframe\n",
    "import matplotlib.pyplot as plt\n",
    "\n",
    "# Create a DataFrame with the results and calculate percentages\n",
    "results_df = pd.DataFrame(possession_results, columns=['Outcome'])\n",
    "results_summary = results_df['Outcome'].value_counts()\n",
    "results_percentages = results_df['Outcome'].value_counts(normalize=True) * 100\n",
    "\n",
    "# Create the bar plot\n",
    "plt.style.use('default')\n",
    "plt.figure(figsize=(10, 6))\n",
    "bars = plt.bar(results_percentages.index, results_percentages.values)\n",
    "\n",
    "# Add percentage labels on top of each bar\n",
    "for bar in bars:\n",
    "    height = bar.get_height() * 1.01\n",
    "    plt.text(bar.get_x() + bar.get_width()/2., height,\n",
    "             f'{height:.1f}%',\n",
    "             ha='center', va='bottom')\n",
    "\n",
    "# Customize the plot\n",
    "plt.ylim(0, max(results_percentages.values) * 1.1)  # Add 10% padding above bars\n",
    "\n",
    "# Remove the box on top and right\n",
    "plt.gca().spines['top'].set_visible(False)\n",
    "plt.gca().spines['right'].set_visible(False)\n",
    "\n",
    "# Make the axes white including text and ticks\n",
    "plt.gca().spines['bottom'].set_color('white')\n",
    "plt.gca().spines['left'].set_color('white')\n",
    "plt.gca().tick_params(colors='white')\n",
    "plt.gca().xaxis.label.set_color('white')\n",
    "plt.gca().yaxis.label.set_color('white')\n",
    "\n",
    "\n",
    "plt.show()"
   ]
  },
  {
   "cell_type": "markdown",
   "metadata": {},
   "source": []
  },
  {
   "cell_type": "markdown",
   "metadata": {},
   "source": []
  }
 ],
 "metadata": {
  "kernelspec": {
   "display_name": ".env",
   "language": "python",
   "name": "python3"
  },
  "language_info": {
   "codemirror_mode": {
    "name": "ipython",
    "version": 3
   },
   "file_extension": ".py",
   "mimetype": "text/x-python",
   "name": "python",
   "nbconvert_exporter": "python",
   "pygments_lexer": "ipython3",
   "version": "3.12.8"
  }
 },
 "nbformat": 4,
 "nbformat_minor": 2
}
